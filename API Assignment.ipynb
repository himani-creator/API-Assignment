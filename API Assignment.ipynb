{
 "cells": [
  {
   "cell_type": "code",
   "execution_count": null,
   "id": "64ad01b9-eb2c-4eb5-ba7c-00ced4d399ae",
   "metadata": {},
   "outputs": [],
   "source": [
    "Q1. What is an API? Give an example, where an API is used in real life.\n",
    "-API are used in web applications to connect user/front end interface and back end information/data. For example - netflix\n",
    "and spotify."
   ]
  },
  {
   "cell_type": "code",
   "execution_count": null,
   "id": "5a448ee8-c7e2-4989-8a3c-54ef158e5298",
   "metadata": {},
   "outputs": [],
   "source": [
    "Q2. Give advantages and disadvantages of using API.\n",
    "advantages -\n",
    "1-It provides better user experience. \n",
    "2- accessing and consuming data from thousands of independent sources so that all sizes of organizations can use it without \n",
    "creating their own API interface\n",
    "3- Developers can use any language to create API\n",
    "\n",
    "Disadvantages - \n",
    "1-APIs are web based services so there is always secturity issue. \n",
    "2- There could be compatiblity issue for the different version of the same software which could display errors and failure\n",
    "of the program easily\n",
    "3 - APIs can be complex as sometimes it requires signification amount of effort to implement and maintain. "
   ]
  },
  {
   "cell_type": "code",
   "execution_count": null,
   "id": "79065d23-8f81-468a-ae6c-bbf9f8e146e8",
   "metadata": {},
   "outputs": [],
   "source": [
    "Q3. What is a Web API? Differentiate between API and Web API.\n",
    "- Web API(Application programming interface) is a web based API in which user enter request through web and the request get\n",
    "processed through web online. It used XML or html . \n",
    "The main difference between API and web API is we don't require internet to create API software , it can be used and saved locally\n",
    "in the system. However,  in web API we require web browser. "
   ]
  },
  {
   "cell_type": "code",
   "execution_count": null,
   "id": "296cf356-712d-49bc-9ba8-9f80ab2b7293",
   "metadata": {},
   "outputs": [],
   "source": [
    "Q4. Explain REST and SOAP Architecture. Mention shortcomings of SOAP.\n",
    "REST - it stands for representational state transfer. It follow few set of rules - \n",
    "Uniform interface\n",
    "Client–server\n",
    "Stateless\n",
    "Cacheable\n",
    "Layered system\n",
    "Code on demand (mostly legacy)\n",
    "\n",
    "SOAP - It stands for simple object application protocol. It is based on three components - service provider, \n",
    "service requester and optional service registry. Since it is a protocoal, it encoded in XML document. \n",
    "\n",
    "SOAP only uses XML data and is in structured format. While REST uses different formats which makes it more flexible than SOAP\n",
    "\n"
   ]
  },
  {
   "cell_type": "code",
   "execution_count": null,
   "id": "ef641fa6-623f-41dd-b13a-db6740c0fee0",
   "metadata": {},
   "outputs": [],
   "source": [
    "Q5. Differentiate between REST and SOAP.\n",
    "1- Most of the mobile apps and hybrid apps uses REST api mechanism as it provides more flexiblity as compare to SOAP\n",
    "2- REST uses lower security constraint , and SOAP has tight security constraint. \n",
    "3- SOAP is complex due to the larger messages which is time consuming and sometimes it takes time to load page. Whereas ,\n",
    "REST uses small messages which makes it faster. \n",
    "4- SOAP requires an additional layer of security to use https, whereas REST support https"
   ]
  }
 ],
 "metadata": {
  "kernelspec": {
   "display_name": "Python 3 (ipykernel)",
   "language": "python",
   "name": "python3"
  },
  "language_info": {
   "codemirror_mode": {
    "name": "ipython",
    "version": 3
   },
   "file_extension": ".py",
   "mimetype": "text/x-python",
   "name": "python",
   "nbconvert_exporter": "python",
   "pygments_lexer": "ipython3",
   "version": "3.10.8"
  }
 },
 "nbformat": 4,
 "nbformat_minor": 5
}
